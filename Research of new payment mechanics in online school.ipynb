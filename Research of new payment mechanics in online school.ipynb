{
 "cells": [
  {
   "cell_type": "markdown",
   "id": "b8a3d550",
   "metadata": {},
   "source": [
    "# Исследование новой механики оплат в онлайн - школе.\n",
    "\n",
    "Одной из основных задач аналитика в нашей команде является корректное проведение экспериментов. Для этого мы применяем метод A/B–тестирования. В ходе тестирования одной гипотезы целевой группе была предложена новая механика оплаты услуг на сайте, у контрольной группы оставалась базовая механика. В качестве задания необходимо проанализировать итоги эксперимента и сделать вывод, стоит ли запускать новую механику оплаты на всех пользователей."
   ]
  },
  {
   "cell_type": "markdown",
   "id": "61c03fe9",
   "metadata": {},
   "source": [
    "В качестве входных данных 4 csv-файла:\n",
    "\n",
    "- **groups.csv** - файл с информацией о принадлежности пользователя к контрольной или экспериментальной группе (А – контроль, B – целевая группа) \n",
    "- **groups_add.csv** - дополнительный файл с пользователями, который вам прислали спустя 2 дня после передачи данных\n",
    "- **active_studs.csv** - файл с информацией о пользователях, которые зашли на платформу в дни проведения эксперимента. \n",
    "- **checks.csv** - файл с информацией об оплатах пользователей в дни проведения эксперимента. \n"
   ]
  },
  {
   "cell_type": "code",
   "execution_count": 1,
   "id": "fb7b890b",
   "metadata": {},
   "outputs": [],
   "source": [
    "import pandas as pd\n",
    "import numpy as np\n",
    "%matplotlib inline\n",
    "import matplotlib.pyplot as plt\n",
    "import seaborn as sns\n",
    "import plotly.express as px\n",
    "from urllib.parse import urlencode\n",
    "from tqdm.auto import tqdm\n",
    "from scipy.stats import norm\n",
    "from scipy.stats import chi2_contingency, chi2 \n",
    "plt.style.use('ggplot')\n"
   ]
  },
  {
   "cell_type": "code",
   "execution_count": 2,
   "id": "362fa63b",
   "metadata": {},
   "outputs": [],
   "source": [
    "# Считываем входные данные\n",
    "groups = pd.read_csv('/Users/user/Проект_2_groups.csv')\n",
    "groups_add = pd.read_csv('/Users/user/Проект_2_group_add.csv')\n",
    "active_studs = pd.read_csv('/Users/user/Проект_2_active_studs.csv')\n",
    "checks = pd.read_csv('/Users/user/Проект_2_checks.csv')"
   ]
  },
  {
   "cell_type": "markdown",
   "id": "746908c6",
   "metadata": {},
   "source": [
    "## Предобработка данных"
   ]
  },
  {
   "cell_type": "markdown",
   "id": "622d734a",
   "metadata": {},
   "source": [
    "Обзор данных"
   ]
  },
  {
   "cell_type": "code",
   "execution_count": 3,
   "id": "6869be95",
   "metadata": {},
   "outputs": [
    {
     "data": {
      "text/html": [
       "<div>\n",
       "<style scoped>\n",
       "    .dataframe tbody tr th:only-of-type {\n",
       "        vertical-align: middle;\n",
       "    }\n",
       "\n",
       "    .dataframe tbody tr th {\n",
       "        vertical-align: top;\n",
       "    }\n",
       "\n",
       "    .dataframe thead th {\n",
       "        text-align: right;\n",
       "    }\n",
       "</style>\n",
       "<table border=\"1\" class=\"dataframe\">\n",
       "  <thead>\n",
       "    <tr style=\"text-align: right;\">\n",
       "      <th></th>\n",
       "      <th>id;grp</th>\n",
       "    </tr>\n",
       "  </thead>\n",
       "  <tbody>\n",
       "    <tr>\n",
       "      <th>0</th>\n",
       "      <td>1489;B</td>\n",
       "    </tr>\n",
       "    <tr>\n",
       "      <th>1</th>\n",
       "      <td>1627;A</td>\n",
       "    </tr>\n",
       "    <tr>\n",
       "      <th>2</th>\n",
       "      <td>1768;B</td>\n",
       "    </tr>\n",
       "    <tr>\n",
       "      <th>3</th>\n",
       "      <td>1783;B</td>\n",
       "    </tr>\n",
       "    <tr>\n",
       "      <th>4</th>\n",
       "      <td>1794;A</td>\n",
       "    </tr>\n",
       "  </tbody>\n",
       "</table>\n",
       "</div>"
      ],
      "text/plain": [
       "   id;grp\n",
       "0  1489;B\n",
       "1  1627;A\n",
       "2  1768;B\n",
       "3  1783;B\n",
       "4  1794;A"
      ]
     },
     "metadata": {},
     "output_type": "display_data"
    },
    {
     "data": {
      "text/plain": [
       "(74484, 1)"
      ]
     },
     "execution_count": 3,
     "metadata": {},
     "output_type": "execute_result"
    }
   ],
   "source": [
    "display(groups.head())\n",
    "groups.shape"
   ]
  },
  {
   "cell_type": "code",
   "execution_count": 4,
   "id": "d98d2da1",
   "metadata": {},
   "outputs": [
    {
     "data": {
      "text/html": [
       "<div>\n",
       "<style scoped>\n",
       "    .dataframe tbody tr th:only-of-type {\n",
       "        vertical-align: middle;\n",
       "    }\n",
       "\n",
       "    .dataframe tbody tr th {\n",
       "        vertical-align: top;\n",
       "    }\n",
       "\n",
       "    .dataframe thead th {\n",
       "        text-align: right;\n",
       "    }\n",
       "</style>\n",
       "<table border=\"1\" class=\"dataframe\">\n",
       "  <thead>\n",
       "    <tr style=\"text-align: right;\">\n",
       "      <th></th>\n",
       "      <th>id</th>\n",
       "      <th>grp</th>\n",
       "    </tr>\n",
       "  </thead>\n",
       "  <tbody>\n",
       "    <tr>\n",
       "      <th>0</th>\n",
       "      <td>5694584</td>\n",
       "      <td>B</td>\n",
       "    </tr>\n",
       "    <tr>\n",
       "      <th>1</th>\n",
       "      <td>5694830</td>\n",
       "      <td>B</td>\n",
       "    </tr>\n",
       "    <tr>\n",
       "      <th>2</th>\n",
       "      <td>5695057</td>\n",
       "      <td>B</td>\n",
       "    </tr>\n",
       "    <tr>\n",
       "      <th>3</th>\n",
       "      <td>5698872</td>\n",
       "      <td>B</td>\n",
       "    </tr>\n",
       "    <tr>\n",
       "      <th>4</th>\n",
       "      <td>5699067</td>\n",
       "      <td>B</td>\n",
       "    </tr>\n",
       "  </tbody>\n",
       "</table>\n",
       "</div>"
      ],
      "text/plain": [
       "        id grp\n",
       "0  5694584   B\n",
       "1  5694830   B\n",
       "2  5695057   B\n",
       "3  5698872   B\n",
       "4  5699067   B"
      ]
     },
     "metadata": {},
     "output_type": "display_data"
    },
    {
     "data": {
      "text/plain": [
       "(92, 2)"
      ]
     },
     "execution_count": 4,
     "metadata": {},
     "output_type": "execute_result"
    }
   ],
   "source": [
    "display(groups_add.head())\n",
    "groups_add.shape"
   ]
  },
  {
   "cell_type": "code",
   "execution_count": 5,
   "id": "33ef7e5b",
   "metadata": {},
   "outputs": [
    {
     "data": {
      "text/html": [
       "<div>\n",
       "<style scoped>\n",
       "    .dataframe tbody tr th:only-of-type {\n",
       "        vertical-align: middle;\n",
       "    }\n",
       "\n",
       "    .dataframe tbody tr th {\n",
       "        vertical-align: top;\n",
       "    }\n",
       "\n",
       "    .dataframe thead th {\n",
       "        text-align: right;\n",
       "    }\n",
       "</style>\n",
       "<table border=\"1\" class=\"dataframe\">\n",
       "  <thead>\n",
       "    <tr style=\"text-align: right;\">\n",
       "      <th></th>\n",
       "      <th>student_id</th>\n",
       "    </tr>\n",
       "  </thead>\n",
       "  <tbody>\n",
       "    <tr>\n",
       "      <th>0</th>\n",
       "      <td>581585</td>\n",
       "    </tr>\n",
       "    <tr>\n",
       "      <th>1</th>\n",
       "      <td>5723133</td>\n",
       "    </tr>\n",
       "    <tr>\n",
       "      <th>2</th>\n",
       "      <td>3276743</td>\n",
       "    </tr>\n",
       "    <tr>\n",
       "      <th>3</th>\n",
       "      <td>4238589</td>\n",
       "    </tr>\n",
       "    <tr>\n",
       "      <th>4</th>\n",
       "      <td>4475369</td>\n",
       "    </tr>\n",
       "  </tbody>\n",
       "</table>\n",
       "</div>"
      ],
      "text/plain": [
       "   student_id\n",
       "0      581585\n",
       "1     5723133\n",
       "2     3276743\n",
       "3     4238589\n",
       "4     4475369"
      ]
     },
     "metadata": {},
     "output_type": "display_data"
    },
    {
     "data": {
      "text/plain": [
       "(8341, 1)"
      ]
     },
     "execution_count": 5,
     "metadata": {},
     "output_type": "execute_result"
    }
   ],
   "source": [
    "display(active_studs.head())\n",
    "active_studs.shape"
   ]
  },
  {
   "cell_type": "code",
   "execution_count": 6,
   "id": "b8da83e5",
   "metadata": {},
   "outputs": [
    {
     "data": {
      "text/html": [
       "<div>\n",
       "<style scoped>\n",
       "    .dataframe tbody tr th:only-of-type {\n",
       "        vertical-align: middle;\n",
       "    }\n",
       "\n",
       "    .dataframe tbody tr th {\n",
       "        vertical-align: top;\n",
       "    }\n",
       "\n",
       "    .dataframe thead th {\n",
       "        text-align: right;\n",
       "    }\n",
       "</style>\n",
       "<table border=\"1\" class=\"dataframe\">\n",
       "  <thead>\n",
       "    <tr style=\"text-align: right;\">\n",
       "      <th></th>\n",
       "      <th>student_id;\"rev\"</th>\n",
       "    </tr>\n",
       "  </thead>\n",
       "  <tbody>\n",
       "    <tr>\n",
       "      <th>0</th>\n",
       "      <td>1627;990.0</td>\n",
       "    </tr>\n",
       "    <tr>\n",
       "      <th>1</th>\n",
       "      <td>3185;690.0</td>\n",
       "    </tr>\n",
       "    <tr>\n",
       "      <th>2</th>\n",
       "      <td>25973;690.0</td>\n",
       "    </tr>\n",
       "    <tr>\n",
       "      <th>3</th>\n",
       "      <td>26280;690.0</td>\n",
       "    </tr>\n",
       "    <tr>\n",
       "      <th>4</th>\n",
       "      <td>100300;990.0</td>\n",
       "    </tr>\n",
       "  </tbody>\n",
       "</table>\n",
       "</div>"
      ],
      "text/plain": [
       "  student_id;\"rev\"\n",
       "0       1627;990.0\n",
       "1       3185;690.0\n",
       "2      25973;690.0\n",
       "3      26280;690.0\n",
       "4     100300;990.0"
      ]
     },
     "metadata": {},
     "output_type": "display_data"
    },
    {
     "data": {
      "text/plain": [
       "(541, 1)"
      ]
     },
     "execution_count": 6,
     "metadata": {},
     "output_type": "execute_result"
    }
   ],
   "source": [
    "display(checks.head())\n",
    "checks.shape"
   ]
  },
  {
   "cell_type": "markdown",
   "id": "ef269b30",
   "metadata": {},
   "source": [
    "Приводим колонки всех таблиц к единым названиям.\n",
    "Переименовываем колонки в таблице `groups` на `user_id` и добавляем новую - `group_name`.В колонку `group_name` добавляем данные из колонки `user_id` - название группы. Т.к. данные в колонке `user_id` типа `object` - приводим данные колонки \n",
    "к типу `int`."
   ]
  },
  {
   "cell_type": "code",
   "execution_count": 7,
   "id": "2bc09a9b",
   "metadata": {},
   "outputs": [],
   "source": [
    "groups = groups.rename(columns={'id;grp':'user_id'})\n",
    "groups['group_name'] = groups.user_id.apply(lambda x: x.split(';')[-1])\n",
    "groups['user_id'] = groups.user_id.apply(lambda x: x.split(';')[0])\n",
    "groups = groups.astype({'user_id': 'int'})"
   ]
  },
  {
   "cell_type": "code",
   "execution_count": 8,
   "id": "1a39d992",
   "metadata": {},
   "outputs": [],
   "source": [
    "# Переименовываем колонки в таблице groups_add. \n",
    "\n",
    "groups_add = groups_add.rename(columns={'id':'user_id', 'grp':'group_name'})"
   ]
  },
  {
   "cell_type": "code",
   "execution_count": 9,
   "id": "cab4ea87",
   "metadata": {},
   "outputs": [],
   "source": [
    "# Переименовываем колонку в таблице active_studs\n",
    "\n",
    "\n",
    "active_studs = active_studs.rename(columns={'student_id':'user_id'})"
   ]
  },
  {
   "cell_type": "code",
   "execution_count": 10,
   "id": "27c50cb8",
   "metadata": {},
   "outputs": [],
   "source": [
    "# В таблице checks меняем название колонки student_id;\"rev\" на user_id и добаляем новую колонку payment. В колонку\n",
    "# payment добавляем данные из колонки user_id - размеры оплат. Т.к. изначально данные колонок типа object, приводим \n",
    "# их к типу int и float\n",
    "\n",
    "checks = checks.rename(columns={'student_id;\"rev\"':'user_id'})\n",
    "checks['payment'] = checks.user_id.apply(lambda x: x.split(';')[-1])\n",
    "checks['user_id'] = checks.user_id.apply(lambda x: x.split(';')[0])\n",
    "checks = checks.astype({'user_id': 'int', 'payment': 'float'})"
   ]
  },
  {
   "cell_type": "code",
   "execution_count": 11,
   "id": "24ecd906",
   "metadata": {},
   "outputs": [
    {
     "data": {
      "text/html": [
       "<div>\n",
       "<style scoped>\n",
       "    .dataframe tbody tr th:only-of-type {\n",
       "        vertical-align: middle;\n",
       "    }\n",
       "\n",
       "    .dataframe tbody tr th {\n",
       "        vertical-align: top;\n",
       "    }\n",
       "\n",
       "    .dataframe thead th {\n",
       "        text-align: right;\n",
       "    }\n",
       "</style>\n",
       "<table border=\"1\" class=\"dataframe\">\n",
       "  <thead>\n",
       "    <tr style=\"text-align: right;\">\n",
       "      <th></th>\n",
       "      <th>user_id</th>\n",
       "      <th>group_name</th>\n",
       "    </tr>\n",
       "  </thead>\n",
       "  <tbody>\n",
       "    <tr>\n",
       "      <th>0</th>\n",
       "      <td>1489</td>\n",
       "      <td>B</td>\n",
       "    </tr>\n",
       "    <tr>\n",
       "      <th>1</th>\n",
       "      <td>1627</td>\n",
       "      <td>A</td>\n",
       "    </tr>\n",
       "    <tr>\n",
       "      <th>2</th>\n",
       "      <td>1768</td>\n",
       "      <td>B</td>\n",
       "    </tr>\n",
       "    <tr>\n",
       "      <th>3</th>\n",
       "      <td>1783</td>\n",
       "      <td>B</td>\n",
       "    </tr>\n",
       "    <tr>\n",
       "      <th>4</th>\n",
       "      <td>1794</td>\n",
       "      <td>A</td>\n",
       "    </tr>\n",
       "    <tr>\n",
       "      <th>...</th>\n",
       "      <td>...</td>\n",
       "      <td>...</td>\n",
       "    </tr>\n",
       "    <tr>\n",
       "      <th>74571</th>\n",
       "      <td>200247820</td>\n",
       "      <td>B</td>\n",
       "    </tr>\n",
       "    <tr>\n",
       "      <th>74572</th>\n",
       "      <td>201032527</td>\n",
       "      <td>B</td>\n",
       "    </tr>\n",
       "    <tr>\n",
       "      <th>74573</th>\n",
       "      <td>201067612</td>\n",
       "      <td>B</td>\n",
       "    </tr>\n",
       "    <tr>\n",
       "      <th>74574</th>\n",
       "      <td>201067653</td>\n",
       "      <td>B</td>\n",
       "    </tr>\n",
       "    <tr>\n",
       "      <th>74575</th>\n",
       "      <td>201067659</td>\n",
       "      <td>B</td>\n",
       "    </tr>\n",
       "  </tbody>\n",
       "</table>\n",
       "<p>74576 rows × 2 columns</p>\n",
       "</div>"
      ],
      "text/plain": [
       "         user_id group_name\n",
       "0           1489          B\n",
       "1           1627          A\n",
       "2           1768          B\n",
       "3           1783          B\n",
       "4           1794          A\n",
       "...          ...        ...\n",
       "74571  200247820          B\n",
       "74572  201032527          B\n",
       "74573  201067612          B\n",
       "74574  201067653          B\n",
       "74575  201067659          B\n",
       "\n",
       "[74576 rows x 2 columns]"
      ]
     },
     "execution_count": 11,
     "metadata": {},
     "output_type": "execute_result"
    }
   ],
   "source": [
    "# Конкатируем таблицы groups и groups_add для получения итоговой таблицы пользователей, поделенных на группы\n",
    "# для эксперимента и записываем общую таблицу под названием all_groups\n",
    "\n",
    "all_groups = pd.concat([groups, groups_add], ignore_index=True)\n",
    "all_groups"
   ]
  },
  {
   "cell_type": "code",
   "execution_count": 12,
   "id": "3b76f352",
   "metadata": {},
   "outputs": [
    {
     "data": {
      "text/plain": [
       "user_id       74576\n",
       "group_name        2\n",
       "dtype: int64"
      ]
     },
     "execution_count": 12,
     "metadata": {},
     "output_type": "execute_result"
    }
   ],
   "source": [
    "all_groups.nunique()"
   ]
  },
  {
   "cell_type": "code",
   "execution_count": 13,
   "id": "b592a518",
   "metadata": {},
   "outputs": [
    {
     "data": {
      "text/plain": [
       "user_id       0\n",
       "group_name    0\n",
       "dtype: int64"
      ]
     },
     "execution_count": 13,
     "metadata": {},
     "output_type": "execute_result"
    }
   ],
   "source": [
    "# Проверим наличие пропусков в all_groups\n",
    "\n",
    "all_groups.isna().sum()"
   ]
  },
  {
   "cell_type": "code",
   "execution_count": 14,
   "id": "476bf7c1",
   "metadata": {},
   "outputs": [
    {
     "data": {
      "text/html": [
       "<div>\n",
       "<style scoped>\n",
       "    .dataframe tbody tr th:only-of-type {\n",
       "        vertical-align: middle;\n",
       "    }\n",
       "\n",
       "    .dataframe tbody tr th {\n",
       "        vertical-align: top;\n",
       "    }\n",
       "\n",
       "    .dataframe thead th {\n",
       "        text-align: right;\n",
       "    }\n",
       "</style>\n",
       "<table border=\"1\" class=\"dataframe\">\n",
       "  <thead>\n",
       "    <tr style=\"text-align: right;\">\n",
       "      <th></th>\n",
       "      <th>user_id</th>\n",
       "      <th>payment</th>\n",
       "    </tr>\n",
       "  </thead>\n",
       "  <tbody>\n",
       "    <tr>\n",
       "      <th>0</th>\n",
       "      <td>581585</td>\n",
       "      <td>NaN</td>\n",
       "    </tr>\n",
       "    <tr>\n",
       "      <th>1</th>\n",
       "      <td>5723133</td>\n",
       "      <td>NaN</td>\n",
       "    </tr>\n",
       "    <tr>\n",
       "      <th>2</th>\n",
       "      <td>3276743</td>\n",
       "      <td>NaN</td>\n",
       "    </tr>\n",
       "    <tr>\n",
       "      <th>3</th>\n",
       "      <td>4238589</td>\n",
       "      <td>NaN</td>\n",
       "    </tr>\n",
       "    <tr>\n",
       "      <th>4</th>\n",
       "      <td>4475369</td>\n",
       "      <td>NaN</td>\n",
       "    </tr>\n",
       "    <tr>\n",
       "      <th>...</th>\n",
       "      <td>...</td>\n",
       "      <td>...</td>\n",
       "    </tr>\n",
       "    <tr>\n",
       "      <th>8336</th>\n",
       "      <td>1794344</td>\n",
       "      <td>NaN</td>\n",
       "    </tr>\n",
       "    <tr>\n",
       "      <th>8337</th>\n",
       "      <td>296883</td>\n",
       "      <td>NaN</td>\n",
       "    </tr>\n",
       "    <tr>\n",
       "      <th>8338</th>\n",
       "      <td>3598448</td>\n",
       "      <td>NaN</td>\n",
       "    </tr>\n",
       "    <tr>\n",
       "      <th>8339</th>\n",
       "      <td>3610547</td>\n",
       "      <td>290.0</td>\n",
       "    </tr>\n",
       "    <tr>\n",
       "      <th>8340</th>\n",
       "      <td>205705</td>\n",
       "      <td>NaN</td>\n",
       "    </tr>\n",
       "  </tbody>\n",
       "</table>\n",
       "<p>8341 rows × 2 columns</p>\n",
       "</div>"
      ],
      "text/plain": [
       "      user_id  payment\n",
       "0      581585      NaN\n",
       "1     5723133      NaN\n",
       "2     3276743      NaN\n",
       "3     4238589      NaN\n",
       "4     4475369      NaN\n",
       "...       ...      ...\n",
       "8336  1794344      NaN\n",
       "8337   296883      NaN\n",
       "8338  3598448      NaN\n",
       "8339  3610547    290.0\n",
       "8340   205705      NaN\n",
       "\n",
       "[8341 rows x 2 columns]"
      ]
     },
     "execution_count": 14,
     "metadata": {},
     "output_type": "execute_result"
    }
   ],
   "source": [
    "# Объединяем таблицы active_studs и checks в одну active_and_paid для получения таблицы о пользователях зашедших \n",
    "# на платформу в дни проведения эксперимента и о пользователях, произведших оплату \n",
    "\n",
    "active_and_paid = active_studs.merge(checks, how = 'left', on = 'user_id')\n",
    "active_and_paid"
   ]
  },
  {
   "cell_type": "code",
   "execution_count": 15,
   "id": "81e9fc55",
   "metadata": {},
   "outputs": [
    {
     "data": {
      "text/plain": [
       "user_id    8341\n",
       "payment      38\n",
       "dtype: int64"
      ]
     },
     "execution_count": 15,
     "metadata": {},
     "output_type": "execute_result"
    }
   ],
   "source": [
    "active_and_paid.nunique()"
   ]
  },
  {
   "cell_type": "code",
   "execution_count": 16,
   "id": "5d51b6f6",
   "metadata": {},
   "outputs": [
    {
     "data": {
      "text/plain": [
       "user_id       0\n",
       "payment    7949\n",
       "dtype: int64"
      ]
     },
     "execution_count": 16,
     "metadata": {},
     "output_type": "execute_result"
    }
   ],
   "source": [
    "# Проверим наличие пропусков в active_and_paid\n",
    "\n",
    "active_and_paid.isna().sum()"
   ]
  },
  {
   "cell_type": "markdown",
   "id": "9214dd2d",
   "metadata": {},
   "source": [
    "Объединяем две таблицы `all_groups` и `active_and_paid` в итоговую по пользователям для проведения А/В теста. Объединяем по `user_id` в таблице `active_and_paid`, т.к. в ней есть необходимая нам информация по активным пользователям в дни проведения эксперимента. \n",
    "В итоге получаем таблицу с информацией по активным пользователям: кто из них  произвел оплату, а кто нет. Пропущенные \n",
    "значения заменяем нулем, т.к. имеются пользователи, которые заходили на сайт, но оплату не произвели."
   ]
  },
  {
   "cell_type": "code",
   "execution_count": 17,
   "id": "17c50117",
   "metadata": {},
   "outputs": [
    {
     "data": {
      "text/html": [
       "<div>\n",
       "<style scoped>\n",
       "    .dataframe tbody tr th:only-of-type {\n",
       "        vertical-align: middle;\n",
       "    }\n",
       "\n",
       "    .dataframe tbody tr th {\n",
       "        vertical-align: top;\n",
       "    }\n",
       "\n",
       "    .dataframe thead th {\n",
       "        text-align: right;\n",
       "    }\n",
       "</style>\n",
       "<table border=\"1\" class=\"dataframe\">\n",
       "  <thead>\n",
       "    <tr style=\"text-align: right;\">\n",
       "      <th></th>\n",
       "      <th>user_id</th>\n",
       "      <th>group_name</th>\n",
       "      <th>payment</th>\n",
       "    </tr>\n",
       "  </thead>\n",
       "  <tbody>\n",
       "    <tr>\n",
       "      <th>0</th>\n",
       "      <td>581585</td>\n",
       "      <td>A</td>\n",
       "      <td>0.0</td>\n",
       "    </tr>\n",
       "    <tr>\n",
       "      <th>1</th>\n",
       "      <td>5723133</td>\n",
       "      <td>A</td>\n",
       "      <td>0.0</td>\n",
       "    </tr>\n",
       "    <tr>\n",
       "      <th>2</th>\n",
       "      <td>3276743</td>\n",
       "      <td>B</td>\n",
       "      <td>0.0</td>\n",
       "    </tr>\n",
       "    <tr>\n",
       "      <th>3</th>\n",
       "      <td>4238589</td>\n",
       "      <td>A</td>\n",
       "      <td>0.0</td>\n",
       "    </tr>\n",
       "    <tr>\n",
       "      <th>4</th>\n",
       "      <td>4475369</td>\n",
       "      <td>B</td>\n",
       "      <td>0.0</td>\n",
       "    </tr>\n",
       "    <tr>\n",
       "      <th>...</th>\n",
       "      <td>...</td>\n",
       "      <td>...</td>\n",
       "      <td>...</td>\n",
       "    </tr>\n",
       "    <tr>\n",
       "      <th>8336</th>\n",
       "      <td>1794344</td>\n",
       "      <td>B</td>\n",
       "      <td>0.0</td>\n",
       "    </tr>\n",
       "    <tr>\n",
       "      <th>8337</th>\n",
       "      <td>296883</td>\n",
       "      <td>B</td>\n",
       "      <td>0.0</td>\n",
       "    </tr>\n",
       "    <tr>\n",
       "      <th>8338</th>\n",
       "      <td>3598448</td>\n",
       "      <td>B</td>\n",
       "      <td>0.0</td>\n",
       "    </tr>\n",
       "    <tr>\n",
       "      <th>8339</th>\n",
       "      <td>3610547</td>\n",
       "      <td>B</td>\n",
       "      <td>290.0</td>\n",
       "    </tr>\n",
       "    <tr>\n",
       "      <th>8340</th>\n",
       "      <td>205705</td>\n",
       "      <td>B</td>\n",
       "      <td>0.0</td>\n",
       "    </tr>\n",
       "  </tbody>\n",
       "</table>\n",
       "<p>8341 rows × 3 columns</p>\n",
       "</div>"
      ],
      "text/plain": [
       "      user_id group_name  payment\n",
       "0      581585          A      0.0\n",
       "1     5723133          A      0.0\n",
       "2     3276743          B      0.0\n",
       "3     4238589          A      0.0\n",
       "4     4475369          B      0.0\n",
       "...       ...        ...      ...\n",
       "8336  1794344          B      0.0\n",
       "8337   296883          B      0.0\n",
       "8338  3598448          B      0.0\n",
       "8339  3610547          B    290.0\n",
       "8340   205705          B      0.0\n",
       "\n",
       "[8341 rows x 3 columns]"
      ]
     },
     "execution_count": 17,
     "metadata": {},
     "output_type": "execute_result"
    }
   ],
   "source": [
    "total_frame = all_groups.merge(active_and_paid, how = 'right', on ='user_id')\n",
    "total_frame = total_frame.fillna(0)\n",
    "total_frame"
   ]
  },
  {
   "cell_type": "code",
   "execution_count": 18,
   "id": "25f738a6",
   "metadata": {},
   "outputs": [
    {
     "data": {
      "text/plain": [
       "user_id       8341\n",
       "group_name       2\n",
       "payment         39\n",
       "dtype: int64"
      ]
     },
     "execution_count": 18,
     "metadata": {},
     "output_type": "execute_result"
    }
   ],
   "source": [
    "# Проверим уникальность пользователей. Судя по значениям - задвоений в пользователях нет\n",
    "\n",
    "total_frame.nunique()"
   ]
  },
  {
   "cell_type": "code",
   "execution_count": 19,
   "id": "853efcc2",
   "metadata": {},
   "outputs": [
    {
     "data": {
      "text/plain": [
       "user_id       0\n",
       "group_name    0\n",
       "payment       0\n",
       "dtype: int64"
      ]
     },
     "execution_count": 19,
     "metadata": {},
     "output_type": "execute_result"
    }
   ],
   "source": [
    "# Проверим наличие пропущенных значений в даннных. \n",
    "total_frame.isna().sum()"
   ]
  },
  {
   "cell_type": "markdown",
   "id": "679572cf",
   "metadata": {},
   "source": [
    "Исходя из имеющихся данных, посчитаю для анализа такие метрики как: `Конверсия(CR)`, `Средний доход на платящего пользователя(ARPPU)` и `Cредний доход с привлечённого пользователя(ARPU)`. Для подсчет метрик, необходимы данные по группам: по сумме оплат, по колличеству активных клиентов и по колличеству оплативших клиентов"
   ]
  },
  {
   "cell_type": "code",
   "execution_count": 20,
   "id": "d3d57f65",
   "metadata": {},
   "outputs": [],
   "source": [
    "revenue_groups = total_frame.groupby('group_name', as_index=False)\\\n",
    "                            .agg({'payment': 'sum'})\\\n",
    "                            .rename(columns={'payment': 'revenue'})\\\n",
    "                            .round(2)\n",
    "\n",
    "active_users_groups = total_frame.groupby('group_name', as_index=False)\\\n",
    "                                 .agg({'user_id':'count'})\\\n",
    "                                 .rename(columns={'user_id': 'active_users'})\n",
    "\n",
    "paying_users_groups = total_frame.query('payment > 0')\\\n",
    "                                 .groupby('group_name', as_index=False)\\\n",
    "                                 .agg({'user_id': 'count'})\\\n",
    "                                 .rename(columns={'user_id':'paying_users'})"
   ]
  },
  {
   "cell_type": "code",
   "execution_count": 21,
   "id": "f380aa71",
   "metadata": {},
   "outputs": [
    {
     "data": {
      "text/html": [
       "<div>\n",
       "<style scoped>\n",
       "    .dataframe tbody tr th:only-of-type {\n",
       "        vertical-align: middle;\n",
       "    }\n",
       "\n",
       "    .dataframe tbody tr th {\n",
       "        vertical-align: top;\n",
       "    }\n",
       "\n",
       "    .dataframe thead th {\n",
       "        text-align: right;\n",
       "    }\n",
       "</style>\n",
       "<table border=\"1\" class=\"dataframe\">\n",
       "  <thead>\n",
       "    <tr style=\"text-align: right;\">\n",
       "      <th></th>\n",
       "      <th>group_name</th>\n",
       "      <th>revenue</th>\n",
       "    </tr>\n",
       "  </thead>\n",
       "  <tbody>\n",
       "    <tr>\n",
       "      <th>0</th>\n",
       "      <td>A</td>\n",
       "      <td>72820.0</td>\n",
       "    </tr>\n",
       "    <tr>\n",
       "      <th>1</th>\n",
       "      <td>B</td>\n",
       "      <td>394974.0</td>\n",
       "    </tr>\n",
       "  </tbody>\n",
       "</table>\n",
       "</div>"
      ],
      "text/plain": [
       "  group_name   revenue\n",
       "0          A   72820.0\n",
       "1          B  394974.0"
      ]
     },
     "execution_count": 21,
     "metadata": {},
     "output_type": "execute_result"
    }
   ],
   "source": [
    "revenue_groups"
   ]
  },
  {
   "cell_type": "code",
   "execution_count": 22,
   "id": "3112b65f",
   "metadata": {},
   "outputs": [
    {
     "data": {
      "text/html": [
       "<div>\n",
       "<style scoped>\n",
       "    .dataframe tbody tr th:only-of-type {\n",
       "        vertical-align: middle;\n",
       "    }\n",
       "\n",
       "    .dataframe tbody tr th {\n",
       "        vertical-align: top;\n",
       "    }\n",
       "\n",
       "    .dataframe thead th {\n",
       "        text-align: right;\n",
       "    }\n",
       "</style>\n",
       "<table border=\"1\" class=\"dataframe\">\n",
       "  <thead>\n",
       "    <tr style=\"text-align: right;\">\n",
       "      <th></th>\n",
       "      <th>group_name</th>\n",
       "      <th>active_users</th>\n",
       "    </tr>\n",
       "  </thead>\n",
       "  <tbody>\n",
       "    <tr>\n",
       "      <th>0</th>\n",
       "      <td>A</td>\n",
       "      <td>1538</td>\n",
       "    </tr>\n",
       "    <tr>\n",
       "      <th>1</th>\n",
       "      <td>B</td>\n",
       "      <td>6803</td>\n",
       "    </tr>\n",
       "  </tbody>\n",
       "</table>\n",
       "</div>"
      ],
      "text/plain": [
       "  group_name  active_users\n",
       "0          A          1538\n",
       "1          B          6803"
      ]
     },
     "execution_count": 22,
     "metadata": {},
     "output_type": "execute_result"
    }
   ],
   "source": [
    "active_users_groups"
   ]
  },
  {
   "cell_type": "code",
   "execution_count": 23,
   "id": "dd675a62",
   "metadata": {},
   "outputs": [
    {
     "data": {
      "text/html": [
       "<div>\n",
       "<style scoped>\n",
       "    .dataframe tbody tr th:only-of-type {\n",
       "        vertical-align: middle;\n",
       "    }\n",
       "\n",
       "    .dataframe tbody tr th {\n",
       "        vertical-align: top;\n",
       "    }\n",
       "\n",
       "    .dataframe thead th {\n",
       "        text-align: right;\n",
       "    }\n",
       "</style>\n",
       "<table border=\"1\" class=\"dataframe\">\n",
       "  <thead>\n",
       "    <tr style=\"text-align: right;\">\n",
       "      <th></th>\n",
       "      <th>group_name</th>\n",
       "      <th>paying_users</th>\n",
       "    </tr>\n",
       "  </thead>\n",
       "  <tbody>\n",
       "    <tr>\n",
       "      <th>0</th>\n",
       "      <td>A</td>\n",
       "      <td>78</td>\n",
       "    </tr>\n",
       "    <tr>\n",
       "      <th>1</th>\n",
       "      <td>B</td>\n",
       "      <td>314</td>\n",
       "    </tr>\n",
       "  </tbody>\n",
       "</table>\n",
       "</div>"
      ],
      "text/plain": [
       "  group_name  paying_users\n",
       "0          A            78\n",
       "1          B           314"
      ]
     },
     "execution_count": 23,
     "metadata": {},
     "output_type": "execute_result"
    }
   ],
   "source": [
    "paying_users_groups"
   ]
  },
  {
   "cell_type": "code",
   "execution_count": 24,
   "id": "72e197ca",
   "metadata": {},
   "outputs": [
    {
     "data": {
      "text/html": [
       "<div>\n",
       "<style scoped>\n",
       "    .dataframe tbody tr th:only-of-type {\n",
       "        vertical-align: middle;\n",
       "    }\n",
       "\n",
       "    .dataframe tbody tr th {\n",
       "        vertical-align: top;\n",
       "    }\n",
       "\n",
       "    .dataframe thead th {\n",
       "        text-align: right;\n",
       "    }\n",
       "</style>\n",
       "<table border=\"1\" class=\"dataframe\">\n",
       "  <thead>\n",
       "    <tr style=\"text-align: right;\">\n",
       "      <th></th>\n",
       "      <th>group_name</th>\n",
       "      <th>revenue</th>\n",
       "      <th>active_users</th>\n",
       "      <th>paying_users</th>\n",
       "    </tr>\n",
       "  </thead>\n",
       "  <tbody>\n",
       "    <tr>\n",
       "      <th>0</th>\n",
       "      <td>A</td>\n",
       "      <td>72820.0</td>\n",
       "      <td>1538</td>\n",
       "      <td>78</td>\n",
       "    </tr>\n",
       "    <tr>\n",
       "      <th>1</th>\n",
       "      <td>B</td>\n",
       "      <td>394974.0</td>\n",
       "      <td>6803</td>\n",
       "      <td>314</td>\n",
       "    </tr>\n",
       "  </tbody>\n",
       "</table>\n",
       "</div>"
      ],
      "text/plain": [
       "  group_name   revenue  active_users  paying_users\n",
       "0          A   72820.0          1538            78\n",
       "1          B  394974.0          6803           314"
      ]
     },
     "execution_count": 24,
     "metadata": {},
     "output_type": "execute_result"
    }
   ],
   "source": [
    "# Объединим полученные данные\n",
    "\n",
    "metrics = revenue_groups.merge(active_users_groups).merge(paying_users_groups)\n",
    "metrics"
   ]
  },
  {
   "cell_type": "markdown",
   "id": "e882e481",
   "metadata": {},
   "source": [
    "Рассчитам метрики и добавим их в итоговую таблицу:\n",
    "\n",
    "- CR(conversion rate) = (Paying Users / Active Users) * 100 (коэффициент платящих пользователей к активным)\n",
    "- ARPPU (Average Revenue Per Paying User) = Revenue / Paying Users (средний доход на платящего пользователя)\n",
    "- ARPU (Average revenue per user) = Revenue / Active Users (средний доход с активного пользователя)\n"
   ]
  },
  {
   "cell_type": "code",
   "execution_count": 25,
   "id": "423bd93b",
   "metadata": {},
   "outputs": [
    {
     "data": {
      "text/html": [
       "<div>\n",
       "<style scoped>\n",
       "    .dataframe tbody tr th:only-of-type {\n",
       "        vertical-align: middle;\n",
       "    }\n",
       "\n",
       "    .dataframe tbody tr th {\n",
       "        vertical-align: top;\n",
       "    }\n",
       "\n",
       "    .dataframe thead th {\n",
       "        text-align: right;\n",
       "    }\n",
       "</style>\n",
       "<table border=\"1\" class=\"dataframe\">\n",
       "  <thead>\n",
       "    <tr style=\"text-align: right;\">\n",
       "      <th></th>\n",
       "      <th>group_name</th>\n",
       "      <th>revenue</th>\n",
       "      <th>active_users</th>\n",
       "      <th>paying_users</th>\n",
       "      <th>CR</th>\n",
       "      <th>ARPPU</th>\n",
       "      <th>ARPU</th>\n",
       "    </tr>\n",
       "  </thead>\n",
       "  <tbody>\n",
       "    <tr>\n",
       "      <th>0</th>\n",
       "      <td>A</td>\n",
       "      <td>72820.0</td>\n",
       "      <td>1538</td>\n",
       "      <td>78</td>\n",
       "      <td>5.07</td>\n",
       "      <td>933.59</td>\n",
       "      <td>47.35</td>\n",
       "    </tr>\n",
       "    <tr>\n",
       "      <th>1</th>\n",
       "      <td>B</td>\n",
       "      <td>394974.0</td>\n",
       "      <td>6803</td>\n",
       "      <td>314</td>\n",
       "      <td>4.62</td>\n",
       "      <td>1257.88</td>\n",
       "      <td>58.06</td>\n",
       "    </tr>\n",
       "  </tbody>\n",
       "</table>\n",
       "</div>"
      ],
      "text/plain": [
       "  group_name   revenue  active_users  paying_users    CR    ARPPU   ARPU\n",
       "0          A   72820.0          1538            78  5.07   933.59  47.35\n",
       "1          B  394974.0          6803           314  4.62  1257.88  58.06"
      ]
     },
     "execution_count": 25,
     "metadata": {},
     "output_type": "execute_result"
    }
   ],
   "source": [
    "metrics['CR'] = ((metrics.paying_users/metrics.active_users)*100).round(2)\n",
    "metrics['ARPPU'] = (metrics.revenue/metrics.paying_users).round(2)\n",
    "metrics['ARPU'] = (metrics.revenue/metrics.active_users).round(2)\n",
    "metrics"
   ]
  },
  {
   "cell_type": "markdown",
   "id": "59fe7d39",
   "metadata": {},
   "source": [
    "Судя по итоговой таблице, в тестовой группе увеличились такие показатели как ARPPU и ARPU. CR, в свою очередь, \n",
    "уменьшилась. Являются ли различия в группах статистически значимыми? Проверим это в статистическом анализе."
   ]
  },
  {
   "cell_type": "markdown",
   "id": "ab39f388",
   "metadata": {},
   "source": [
    "## Исследовательский анализ данных"
   ]
  },
  {
   "cell_type": "code",
   "execution_count": 26,
   "id": "dac1653f",
   "metadata": {},
   "outputs": [
    {
     "data": {
      "image/png": "[encoded data removed]",
      "text/plain": [
       "<Figure size 432x288 with 1 Axes>"
      ]
     },
     "metadata": {},
     "output_type": "display_data"
    }
   ],
   "source": [
    "# Посмотрим распределения оплат по группам\n",
    "\n",
    "group_A = total_frame.query('group_name == \"A\" and payment > 0')\n",
    "group_A.payment.hist()\n",
    "plt.show()"
   ]
  },
  {
   "cell_type": "code",
   "execution_count": 27,
   "id": "221f5448",
   "metadata": {},
   "outputs": [
    {
     "data": {
      "image/png": "[encoded data removed]",
      "text/plain": [
       "<Figure size 432x288 with 1 Axes>"
      ]
     },
     "metadata": {},
     "output_type": "display_data"
    }
   ],
   "source": [
    "group_B = total_frame.query('group_name == \"B\" and payment > 0')\n",
    "group_B.payment.hist()\n",
    "plt.show()"
   ]
  },
  {
   "cell_type": "markdown",
   "id": "abc2dcea",
   "metadata": {},
   "source": [
    "Распределения отличаются от нормального. На графике распределения оплат по группе Б имеется подозрительный пик на оплате 1800 - 1900. Предполагаю, что тестовой группе, возможно, была предложена акция при оплате на данную сумму."
   ]
  },
  {
   "cell_type": "code",
   "execution_count": 28,
   "id": "74685b63",
   "metadata": {},
   "outputs": [
    {
     "data": {
      "image/png": "[encoded data removed]",
      "text/plain": [
       "<Figure size 432x288 with 1 Axes>"
      ]
     },
     "metadata": {},
     "output_type": "display_data"
    }
   ],
   "source": [
    "# Построим, также, график типа boxplot. Судя по графику - в оплатах есть выбросы.\n",
    "\n",
    "sns.boxplot(x='group_name', y='payment', data = total_frame.query('payment > 0'))\n",
    "plt.show()"
   ]
  },
  {
   "cell_type": "code",
   "execution_count": 29,
   "id": "b4ed11e1",
   "metadata": {},
   "outputs": [
    {
     "data": {
      "text/html": [
       "<div>\n",
       "<style scoped>\n",
       "    .dataframe tbody tr th:only-of-type {\n",
       "        vertical-align: middle;\n",
       "    }\n",
       "\n",
       "    .dataframe tbody tr th {\n",
       "        vertical-align: top;\n",
       "    }\n",
       "\n",
       "    .dataframe thead th {\n",
       "        text-align: right;\n",
       "    }\n",
       "</style>\n",
       "<table border=\"1\" class=\"dataframe\">\n",
       "  <thead>\n",
       "    <tr style=\"text-align: right;\">\n",
       "      <th>group_name</th>\n",
       "      <th>A</th>\n",
       "      <th>B</th>\n",
       "    </tr>\n",
       "  </thead>\n",
       "  <tbody>\n",
       "    <tr>\n",
       "      <th>count</th>\n",
       "      <td>78.000000</td>\n",
       "      <td>314.000000</td>\n",
       "    </tr>\n",
       "    <tr>\n",
       "      <th>mean</th>\n",
       "      <td>933.589744</td>\n",
       "      <td>1257.878992</td>\n",
       "    </tr>\n",
       "    <tr>\n",
       "      <th>std</th>\n",
       "      <td>919.932711</td>\n",
       "      <td>790.864254</td>\n",
       "    </tr>\n",
       "    <tr>\n",
       "      <th>min</th>\n",
       "      <td>199.000000</td>\n",
       "      <td>199.000000</td>\n",
       "    </tr>\n",
       "    <tr>\n",
       "      <th>25%</th>\n",
       "      <td>290.000000</td>\n",
       "      <td>511.750000</td>\n",
       "    </tr>\n",
       "    <tr>\n",
       "      <th>50%</th>\n",
       "      <td>585.000000</td>\n",
       "      <td>1140.000000</td>\n",
       "    </tr>\n",
       "    <tr>\n",
       "      <th>75%</th>\n",
       "      <td>1114.750000</td>\n",
       "      <td>1900.000000</td>\n",
       "    </tr>\n",
       "    <tr>\n",
       "      <th>max</th>\n",
       "      <td>3660.000000</td>\n",
       "      <td>4650.000000</td>\n",
       "    </tr>\n",
       "  </tbody>\n",
       "</table>\n",
       "</div>"
      ],
      "text/plain": [
       "group_name            A            B\n",
       "count         78.000000   314.000000\n",
       "mean         933.589744  1257.878992\n",
       "std          919.932711   790.864254\n",
       "min          199.000000   199.000000\n",
       "25%          290.000000   511.750000\n",
       "50%          585.000000  1140.000000\n",
       "75%         1114.750000  1900.000000\n",
       "max         3660.000000  4650.000000"
      ]
     },
     "execution_count": 29,
     "metadata": {},
     "output_type": "execute_result"
    }
   ],
   "source": [
    "# Проверим статистические данные по группам.\n",
    "\n",
    "total_frame.query('payment > 0').pivot(index='user_id', columns='group_name', values='payment').describe()"
   ]
  },
  {
   "cell_type": "markdown",
   "id": "c9a775fc",
   "metadata": {},
   "source": [
    "## Статистический анализ получившихся результатов"
   ]
  },
  {
   "cell_type": "markdown",
   "id": "e8b6d803",
   "metadata": {},
   "source": [
    "В связи с тем, что распределения не нормальны и размеры групп отличаются - для теста выбираю метод Бутстрап.\n",
    "\n",
    "Принимаем следующие гипотезы:\n",
    "\n",
    "- H0 - разница в ARPU - статистически не значима\n",
    "\n",
    "- H1 - разница в ARPU - статистически значима"
   ]
  },
  {
   "cell_type": "code",
   "execution_count": 30,
   "id": "e7323489",
   "metadata": {},
   "outputs": [],
   "source": [
    "# Объявим функцию, которая позволит проверять гипотезы с помощью бутстрапа\n",
    "def get_bootstrap(\n",
    "    data_column_1, # числовые значения первой выборки\n",
    "    data_column_2, # числовые значения второй выборки\n",
    "    boot_it = 1000, # количество бутстрэп-подвыборок\n",
    "    statistic = np.mean, # интересующая нас статистика\n",
    "    bootstrap_conf_level = 0.95 # уровень значимости\n",
    "):\n",
    "    boot_len = max([len(data_column_1), len(data_column_2)])\n",
    "    boot_data = []\n",
    "    for i in tqdm(range(boot_it)): # извлекаем подвыборки\n",
    "        samples_1 = data_column_1.sample(\n",
    "            boot_len, \n",
    "            replace = True # параметр возвращения\n",
    "        ).values\n",
    "        \n",
    "        samples_2 = data_column_2.sample(\n",
    "            boot_len, \n",
    "            replace = True\n",
    "        ).values\n",
    "        \n",
    "        boot_data.append(statistic(samples_1-samples_2)) # mean() - применяем статистику\n",
    "        \n",
    "    pd_boot_data = pd.DataFrame(boot_data)\n",
    "        \n",
    "    left_quant = (1 - bootstrap_conf_level)/2\n",
    "    right_quant = 1 - (1 - bootstrap_conf_level) / 2\n",
    "    ci = pd_boot_data.quantile([left_quant, right_quant])\n",
    "        \n",
    "    p_1 = norm.cdf(\n",
    "        x = 0, \n",
    "        loc = np.mean(boot_data), \n",
    "        scale = np.std(boot_data)\n",
    "    )\n",
    "    p_2 = norm.cdf(\n",
    "        x = 0, \n",
    "        loc = -np.mean(boot_data), \n",
    "        scale = np.std(boot_data)\n",
    "    )\n",
    "    p_value = min(p_1, p_2) * 2\n",
    "        \n",
    "    # Визуализация\n",
    "    plt.hist(pd_boot_data[0], bins = 50)\n",
    "    \n",
    "    plt.style.use('ggplot')\n",
    "    plt.vlines(ci,ymin=0,ymax=50,linestyle='--')\n",
    "    plt.xlabel('boot_data')\n",
    "    plt.ylabel('frequency')\n",
    "    plt.title(\"Histogram of boot_data\")\n",
    "    plt.show()\n",
    "       \n",
    "    return {\"boot_data\": boot_data, \n",
    "            \"ci\": ci, \n",
    "            \"p_value\": p_value}"
   ]
  },
  {
   "cell_type": "code",
   "execution_count": 31,
   "id": "2d1f3aeb",
   "metadata": {},
   "outputs": [
    {
     "data": {
      "application/vnd.jupyter.widget-view+json": {
       "model_id": "bbaa9b5b22f849a4ae8a62aa015e4dcd",
       "version_major": 2,
       "version_minor": 0
      },
      "text/plain": [
       "  0%|          | 0/2000 [00:00<?, ?it/s]"
      ]
     },
     "metadata": {},
     "output_type": "display_data"
    },
    {
     "data": {
      "image/png": "[encoded data removed]",
      "text/plain": [
       "<Figure size 432x288 with 1 Axes>"
      ]
     },
     "metadata": {},
     "output_type": "display_data"
    }
   ],
   "source": [
    "# применим функцию к оплатам по группам\n",
    "\n",
    "booted_data = get_bootstrap(group_A.payment, group_B.payment , boot_it = 2000) # в результате хранится разница двух распределений, ДИ и pvalue"
   ]
  },
  {
   "cell_type": "code",
   "execution_count": 32,
   "id": "ec52576c",
   "metadata": {},
   "outputs": [
    {
     "data": {
      "text/plain": [
       "1.4529962278299634e-06"
      ]
     },
     "execution_count": 32,
     "metadata": {},
     "output_type": "execute_result"
    }
   ],
   "source": [
    "booted_data[\"p_value\"]"
   ]
  },
  {
   "cell_type": "code",
   "execution_count": 33,
   "id": "09a9b1bc",
   "metadata": {},
   "outputs": [
    {
     "data": {
      "text/html": [
       "<div>\n",
       "<style scoped>\n",
       "    .dataframe tbody tr th:only-of-type {\n",
       "        vertical-align: middle;\n",
       "    }\n",
       "\n",
       "    .dataframe tbody tr th {\n",
       "        vertical-align: top;\n",
       "    }\n",
       "\n",
       "    .dataframe thead th {\n",
       "        text-align: right;\n",
       "    }\n",
       "</style>\n",
       "<table border=\"1\" class=\"dataframe\">\n",
       "  <thead>\n",
       "    <tr style=\"text-align: right;\">\n",
       "      <th></th>\n",
       "      <th>0</th>\n",
       "    </tr>\n",
       "  </thead>\n",
       "  <tbody>\n",
       "    <tr>\n",
       "      <th>0.025</th>\n",
       "      <td>-453.982418</td>\n",
       "    </tr>\n",
       "    <tr>\n",
       "      <th>0.975</th>\n",
       "      <td>-189.365853</td>\n",
       "    </tr>\n",
       "  </tbody>\n",
       "</table>\n",
       "</div>"
      ],
      "text/plain": [
       "                0\n",
       "0.025 -453.982418\n",
       "0.975 -189.365853"
      ]
     },
     "execution_count": 33,
     "metadata": {},
     "output_type": "execute_result"
    }
   ],
   "source": [
    "booted_data[\"ci\"] #доверительные интервалы"
   ]
  },
  {
   "cell_type": "markdown",
   "id": "3a2ce9ad",
   "metadata": {},
   "source": [
    "Т.к. p_value по результатам получился меньше 0 - отклоняем нулевую гипотезу. Из данного теста следует - что увеличение показателя ARPU статистически значимо.\n",
    "\n",
    "Проверим, статистически ли значима разница показателя конверсии в группах с помощью критирерия хи - квадрат, т.к. данные категориальные.\n",
    "\n",
    "Принимаем следующие гипотезы:\n",
    "\n",
    "- H0 - взаимосвязи между группой и покупками - нет\n",
    "\n",
    "- H1 - взаимосвязь между группой и покупками - есть"
   ]
  },
  {
   "cell_type": "code",
   "execution_count": 34,
   "id": "b0e2beb4",
   "metadata": {},
   "outputs": [
    {
     "data": {
      "text/html": [
       "<div>\n",
       "<style scoped>\n",
       "    .dataframe tbody tr th:only-of-type {\n",
       "        vertical-align: middle;\n",
       "    }\n",
       "\n",
       "    .dataframe tbody tr th {\n",
       "        vertical-align: top;\n",
       "    }\n",
       "\n",
       "    .dataframe thead th {\n",
       "        text-align: right;\n",
       "    }\n",
       "</style>\n",
       "<table border=\"1\" class=\"dataframe\">\n",
       "  <thead>\n",
       "    <tr style=\"text-align: right;\">\n",
       "      <th>status</th>\n",
       "      <th>0</th>\n",
       "      <th>1</th>\n",
       "    </tr>\n",
       "    <tr>\n",
       "      <th>group_name</th>\n",
       "      <th></th>\n",
       "      <th></th>\n",
       "    </tr>\n",
       "  </thead>\n",
       "  <tbody>\n",
       "    <tr>\n",
       "      <th>A</th>\n",
       "      <td>1460</td>\n",
       "      <td>78</td>\n",
       "    </tr>\n",
       "    <tr>\n",
       "      <th>B</th>\n",
       "      <td>6489</td>\n",
       "      <td>314</td>\n",
       "    </tr>\n",
       "  </tbody>\n",
       "</table>\n",
       "</div>"
      ],
      "text/plain": [
       "status         0    1\n",
       "group_name           \n",
       "A           1460   78\n",
       "B           6489  314"
      ]
     },
     "execution_count": 34,
     "metadata": {},
     "output_type": "execute_result"
    }
   ],
   "source": [
    "# Добавляю столбец status: 1-есть оплата, 0-нет оплаты.\n",
    "\n",
    "total_frame['status'] = total_frame.payment.apply(lambda x: 1 if x>0 else 0)\n",
    "total_frame_chi = pd.crosstab(total_frame.group_name, total_frame.status)\n",
    "total_frame_chi"
   ]
  },
  {
   "cell_type": "code",
   "execution_count": 35,
   "id": "f7468f3e",
   "metadata": {},
   "outputs": [
    {
     "data": {
      "text/plain": [
       "(0.48480826522557896, 0.48625240457231045)"
      ]
     },
     "execution_count": 35,
     "metadata": {},
     "output_type": "execute_result"
    }
   ],
   "source": [
    "stat, p, dof, expected = chi2_contingency(total_frame_chi)\n",
    "stat, p"
   ]
  },
  {
   "cell_type": "code",
   "execution_count": 36,
   "id": "cad83863",
   "metadata": {},
   "outputs": [
    {
     "name": "stdout",
     "output_type": "stream",
     "text": [
      "Не отклоняем H0\n"
     ]
    }
   ],
   "source": [
    "prob = 0.95\n",
    "alpha = 1.0 - prob\n",
    "if p <= alpha:\n",
    "    print('Отклоняем H0')\n",
    "else:\n",
    "    print('Не отклоняем H0')"
   ]
  },
  {
   "cell_type": "markdown",
   "id": "88d1e185",
   "metadata": {},
   "source": [
    "P-value > 0.05. Следовательно, взаимосвязи между группой и покупками - нет"
   ]
  },
  {
   "cell_type": "markdown",
   "id": "faf2a4f5",
   "metadata": {},
   "source": [
    "# Вывод\n",
    "\n",
    "\n",
    "Проанализировав исходные данные и 2 метрики, можно сделать следующий вывод: \n",
    "\n",
    "- Снижение конверсии в тестовой групее - не является следствием запуска теста и не является статистически значимым критерием;\n",
    "- Изменение метрики ARPU является статистически значимым. Следовательно, запуск новой механики оплаты повлиял на увеличение среднего дохода с активного пользователя;\n",
    "- Следует дополнительно запросить и проанализировать данные по оплатам из тестовой группы. Подозрительно частая оплата в районе 1800-1900 указывает на то, что возможно была запущена какая-либо акция при оплате услуги по данной стоимости, что могло повлиять на чистоту эксперимента, и сответственно, на полученный результат.\n",
    "\n",
    "Перед выкатом нового механизма оплаты следует проверить идентичность условий в группах, исключить влияние сторонних факторов и повторить эксперимент."
   ]
  }
 ],
 "metadata": {
  "kernelspec": {
   "display_name": "Python 3 (ipykernel)",
   "language": "python",
   "name": "python3"
  },
  "language_info": {
   "codemirror_mode": {
    "name": "ipython",
    "version": 3
   },
   "file_extension": ".py",
   "mimetype": "text/x-python",
   "name": "python",
   "nbconvert_exporter": "python",
   "pygments_lexer": "ipython3",
   "version": "3.9.12"
  }
 },
 "nbformat": 4,
 "nbformat_minor": 5
}
